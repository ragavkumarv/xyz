{
  "cells": [
    {
      "cell_type": "markdown",
      "metadata": {
        "id": "view-in-github",
        "colab_type": "text"
      },
      "source": [
        "<a href=\"https://colab.research.google.com/github/ragavkumarv/xyz/blob/master/code_along1_loan_status.ipynb\" target=\"_parent\"><img src=\"https://colab.research.google.com/assets/colab-badge.svg\" alt=\"Open In Colab\"/></a>"
      ]
    },
    {
      "cell_type": "markdown",
      "id": "2a6c1174-a5f4-48db-b6c7-e22a436b1118",
      "metadata": {
        "id": "2a6c1174-a5f4-48db-b6c7-e22a436b1118"
      },
      "source": [
        "# Supervised Learning\n",
        "\n",
        "\n",
        "## Predicting values of a *target variable* given a set of *features*\n",
        "\n",
        "* For example, predicting if a customer will buy a product *(target)* based on their location and last five purchases *(features)*.\n",
        "\n",
        "### Regression\n",
        "\n",
        "* Predicting the values of a continuous variable e.g., house price.\n",
        "\n",
        "### Classification\n",
        "\n",
        "* Predicting a binary outcome e.g., customer churn."
      ]
    },
    {
      "cell_type": "markdown",
      "id": "5c921972-2f66-49d4-9dd8-aba4b3335ba5",
      "metadata": {
        "id": "5c921972-2f66-49d4-9dd8-aba4b3335ba5"
      },
      "source": [
        "# Data Dictionary\n",
        "\n",
        "The data has the following fields:\n",
        "\n",
        "|Column name | Description |\n",
        "|------------|-------------|\n",
        "| `loan_id`  | Unique loan id |\n",
        "| `gender`   | Gender - `Male` / `Female` |\n",
        "| `married`  | Marital status - `Yes` / `No` |\n",
        "| `dependents` | Number of dependents |\n",
        "| `education` | Education - `Graduate` / `Not Graduate` |\n",
        "| `self_employed` | Self-employment status - `Yes` / `No` |\n",
        "| `applicant_income` | Applicant's income |\n",
        "| `coapplicant_income` | Coapplicant's income |\n",
        "| `loan_amount` | Loan amount (thousands) |\n",
        "| `loan_amount_term` | Term of loan (months) |\n",
        "| `credit_history` | Credit history meets guidelines - `1` / `0` |\n",
        "| `property_area` | Area of the property - `Urban` / `Semi Urban` / `Rural` |\n",
        "| `loan_status` | Loan approval status (target) - `1` / `0` |"
      ]
    },
    {
      "cell_type": "markdown",
      "id": "ad97c4ca",
      "metadata": {
        "id": "ad97c4ca"
      },
      "source": [
        "## Step 0: Get the place and things ready"
      ]
    },
    {
      "cell_type": "code",
      "execution_count": null,
      "id": "d0eb4f16-5a99-460d-a5ba-706b7ef0bbe7",
      "metadata": {
        "executionTime": 3356,
        "id": "d0eb4f16-5a99-460d-a5ba-706b7ef0bbe7",
        "lastSuccessfullyExecutedCode": "# Import required libraries\nimport numpy as np\nimport pandas as pd\nimport matplotlib.pyplot as plt\nimport seaborn as sns\nfrom sklearn.model_selection import train_test_split\nfrom sklearn.linear_model import LogisticRegression\nfrom sklearn.metrics import confusion_matrix, ConfusionMatrixDisplay"
      },
      "outputs": [],
      "source": [
        "# Import required libraries\n"
      ]
    },
    {
      "cell_type": "code",
      "execution_count": null,
      "id": "0d20af26-3bea-4037-a0f5-dca9747920bc",
      "metadata": {
        "executionTime": 134,
        "lastSuccessfullyExecutedCode": "# Read in the dataset\nloans = pd.read_csv(\"loans.csv\")\n\n# Preview the data\nloans.head()",
        "id": "0d20af26-3bea-4037-a0f5-dca9747920bc"
      },
      "outputs": [],
      "source": [
        "# Read in the dataset\n",
        "\n",
        "\n",
        "# Preview the data\n"
      ]
    },
    {
      "cell_type": "markdown",
      "id": "7bba155d-4068-4afc-9ac4-6c23e05f96ef",
      "metadata": {
        "id": "7bba155d-4068-4afc-9ac4-6c23e05f96ef"
      },
      "source": [
        "# Exploratory Data Analysis\n",
        "\n",
        "We can't just dive straight into machine learning!\n",
        "We need to understand and format our data for modeling.\n",
        "What are we looking for?\n",
        "\n"
      ]
    },
    {
      "cell_type": "markdown",
      "id": "8f7f2cf2",
      "metadata": {
        "id": "8f7f2cf2"
      },
      "source": [
        "## Step 1: Cleanliness\n",
        "\n",
        "* Are columns set to the correct data type?\n",
        "* Do we have missing data?"
      ]
    },
    {
      "cell_type": "code",
      "execution_count": null,
      "id": "e8b81ae8-7b2a-4c4e-a6a1-65006d7b16a8",
      "metadata": {
        "executionTime": 0,
        "lastSuccessfullyExecutedCode": "# Remove the loan_id to avoid accidentally using it as a feature\nloans.drop(columns=[\"loan_id\"], inplace=True)",
        "id": "e8b81ae8-7b2a-4c4e-a6a1-65006d7b16a8"
      },
      "outputs": [],
      "source": [
        "# Remove the loan_id to avoid accidentally using it as a feature\n"
      ]
    },
    {
      "cell_type": "code",
      "execution_count": null,
      "id": "b66b2dc3-064a-426d-acad-beff06846bb2",
      "metadata": {
        "executionTime": 32,
        "lastSuccessfullyExecutedCode": "# Counts and data types per column\nloans.info()",
        "id": "b66b2dc3-064a-426d-acad-beff06846bb2"
      },
      "outputs": [],
      "source": [
        "# Counts and data types per column\n"
      ]
    },
    {
      "cell_type": "markdown",
      "id": "97d2289f",
      "metadata": {
        "id": "97d2289f"
      },
      "source": [
        "## Step 2: Distributions\n",
        "\n",
        "* Many machine learning algorithms expect data that is normally distributed.\n",
        "* Do we have outliers (extreme values)?"
      ]
    },
    {
      "cell_type": "code",
      "execution_count": null,
      "id": "25b372a2-43dc-4f4e-ad05-08ae6b0adb4e",
      "metadata": {
        "executionTime": 35,
        "lastSuccessfullyExecutedCode": "# Target frequency\nloans[\"loan_status\"].value_counts(normalize=True)",
        "id": "25b372a2-43dc-4f4e-ad05-08ae6b0adb4e"
      },
      "outputs": [],
      "source": [
        "# Target frequency\n"
      ]
    },
    {
      "cell_type": "code",
      "execution_count": null,
      "id": "a2e3a578-9a10-4997-aaa9-d980585a6327",
      "metadata": {
        "executionTime": 213,
        "lastSuccessfullyExecutedCode": "# Class frequency by loan_status\nfor col in loans.columns[loans.dtypes == \"object\"]:\n    sns.countplot(data=loans, x=col, hue=\"loan_status\")\n    plt.show()",
        "id": "a2e3a578-9a10-4997-aaa9-d980585a6327"
      },
      "outputs": [],
      "source": [
        "# Class frequency by loan_status\n"
      ]
    },
    {
      "cell_type": "markdown",
      "id": "842291ec",
      "metadata": {
        "id": "842291ec"
      },
      "source": [
        "## Step 3: Relationships\n",
        "\n",
        "* If data is strongly correlated with the target variable it might be a good feature for predictions!"
      ]
    },
    {
      "cell_type": "code",
      "execution_count": null,
      "id": "1bb06f93",
      "metadata": {
        "id": "1bb06f93"
      },
      "outputs": [],
      "source": [
        "# Correlation between variables"
      ]
    },
    {
      "cell_type": "markdown",
      "id": "4823bf76",
      "metadata": {
        "id": "4823bf76"
      },
      "source": [
        "## Skipping Step 4: Feature Engineering\n",
        "\n",
        "* Using domain knowledge to select and extract predictive features from raw data\n",
        "* Transforming predictive features into a format usable by the model\n"
      ]
    },
    {
      "cell_type": "markdown",
      "id": "9c7fa35c-f21c-480a-b704-96241686c0b0",
      "metadata": {
        "id": "9c7fa35c-f21c-480a-b704-96241686c0b0"
      },
      "source": [
        "## Step 5: Modeling"
      ]
    },
    {
      "cell_type": "code",
      "execution_count": null,
      "id": "5df6a1f7-4f7b-4914-b783-97aa72ff25a3",
      "metadata": {
        "executionTime": 56,
        "jupyter": {
          "outputs_hidden": false,
          "source_hidden": false
        },
        "lastSuccessfullyExecutedCode": "# First model using loan_amount\nX = loans[[\"loan_amount\"]]\ny = loans[[\"loan_status\"]]\n\n# Split into training and test sets\nX_train, X_test, y_train, y_test = train_test_split(X,\n                                                   y,\n                                                   test_size=0.3,\n                                                   random_state=42,\n                                                   stratify=y)\n\n# Previewing the training set\nprint(X_train[:5], \"\\n\", y_train[:5])",
        "id": "5df6a1f7-4f7b-4914-b783-97aa72ff25a3"
      },
      "outputs": [],
      "source": [
        "# First model using loan_amount\n",
        "\n",
        "# Split into training and test sets\n",
        "\n",
        "# Previewing the training set"
      ]
    },
    {
      "cell_type": "code",
      "execution_count": null,
      "id": "0cf514c7-6b4e-4b15-bb04-3001e55a2fd3",
      "metadata": {
        "executionTime": 37,
        "lastSuccessfullyExecutedCode": "# Instantiate a logistic regression model\nclf = LogisticRegression(random_state=42)\n\n# Fit to the training data\nclf.fit(X_train, y_train)\n\n# Predict test set values\ny_pred = clf.predict(X_test)\n\n# Check the model's first five predictions\nprint(y_pred[:5])",
        "id": "0cf514c7-6b4e-4b15-bb04-3001e55a2fd3"
      },
      "outputs": [],
      "source": [
        "# Instantiate a logistic regression model\n",
        "\n",
        "# Fit to the training data\n",
        "\n",
        "# Predict test set values\n",
        "\n",
        "# Check the model's first five predictions\n"
      ]
    },
    {
      "cell_type": "markdown",
      "id": "d544e864",
      "metadata": {
        "id": "d544e864"
      },
      "source": [
        "## Step 6: Testing"
      ]
    },
    {
      "cell_type": "markdown",
      "id": "3bbe53e1-c68a-4bf9-a70e-72ef346b3ac6",
      "metadata": {
        "id": "3bbe53e1-c68a-4bf9-a70e-72ef346b3ac6"
      },
      "source": [
        "# Classification Metrics\n",
        "\n",
        "&nbsp;\n",
        "\n",
        "## Accuracy\n",
        "$Accuracy = \\frac{Correct Predictions}{Total Observations}$\n",
        "\n",
        "&nbsp;\n",
        "\n",
        "## Confusion Matrix\n",
        "\n",
        "**True Positive (TP)** = # Correctly predicted as positive\n",
        "\n",
        "**True Negative (TN)** = # Correctly predicted as negative\n",
        "\n",
        "**False Positive (FP)** = # Incorrectly predicted as positive (actually negative)\n",
        "\n",
        "**False Negative (FN)** = # Incorrectly predicted as negative (actually positive)\n",
        "\n",
        "&nbsp;\n",
        "\n",
        "|        | **Predicted: Negative** | **Predicted: Positive** |\n",
        "|--------|---------------------|---------------------|\n",
        "|**Actual: Negative** | True Negative | False Positive |\n",
        "|**Actual: Positive** | False Negative | True Positive |\n",
        "\n",
        "&nbsp;\n",
        "\n",
        "### Confusion Matrix Metrics\n",
        "\n",
        "$Precision = \\frac{TP}{TP + FP}$\n",
        "\n",
        "$Recall = \\frac{TP}{TP + FN}$"
      ]
    },
    {
      "cell_type": "code",
      "execution_count": null,
      "id": "7521aba7-b3dd-44ee-ac6a-85a723e8fe4f",
      "metadata": {
        "executionTime": 46,
        "lastSuccessfullyExecutedCode": "# Accuracy\nprint(clf.score(X_test, y_test))",
        "id": "7521aba7-b3dd-44ee-ac6a-85a723e8fe4f"
      },
      "outputs": [],
      "source": [
        "# Accuracy"
      ]
    },
    {
      "cell_type": "code",
      "execution_count": null,
      "id": "4c9a8d24-71da-47c0-9267-2bed49da8583",
      "metadata": {
        "executionTime": 151,
        "lastSuccessfullyExecutedCode": "# Confusion matrix\nconf_matrix = confusion_matrix(y_test, y_pred)\ndisp = ConfusionMatrixDisplay(confusion_matrix=conf_matrix,\n                             display_labels=[\"Rejected\", \"Approved\"])\ndisp.plot()\nplt.show()",
        "id": "4c9a8d24-71da-47c0-9267-2bed49da8583"
      },
      "outputs": [],
      "source": [
        "# Confusion matrix\n"
      ]
    },
    {
      "cell_type": "markdown",
      "id": "7d2a9505-c2d2-4412-9703-6492ed566079",
      "metadata": {
        "id": "7d2a9505-c2d2-4412-9703-6492ed566079"
      },
      "source": [
        "## Trying with Step 4: Feature Engineering"
      ]
    },
    {
      "cell_type": "code",
      "execution_count": null,
      "id": "83e98eef-ef3c-4f7e-b26a-5ea125b4d95c",
      "metadata": {
        "executionTime": 76,
        "lastSuccessfullyExecutedCode": "# Convert categorical features to binary\nloans = pd.get_dummies(loans)\n\n# Previewing the new DataFrame\nloans.head()",
        "id": "83e98eef-ef3c-4f7e-b26a-5ea125b4d95c"
      },
      "outputs": [],
      "source": [
        "# Convert categorical features to binary\n",
        "\n",
        "# Previewing the new DataFrame"
      ]
    },
    {
      "cell_type": "code",
      "execution_count": null,
      "id": "b2b7da20-4806-4593-b2da-456328ae290f",
      "metadata": {
        "executionTime": 55,
        "lastSuccessfullyExecutedCode": "# Resplit into features and targets\nX = loans.drop(columns=[\"loan_status\"])\ny = loans[[\"loan_status\"]]\n\n# Split into training and test sets\nX_train, X_test, y_train, y_test = train_test_split(X,\n                                                   y,\n                                                   test_size=0.3,\n                                                   random_state=42,\n                                                   stratify=y)",
        "id": "b2b7da20-4806-4593-b2da-456328ae290f"
      },
      "outputs": [],
      "source": [
        "# Resplit into features and targets\n",
        "\n",
        "# Split into training and test sets"
      ]
    },
    {
      "cell_type": "markdown",
      "id": "47c39b83",
      "metadata": {
        "id": "47c39b83"
      },
      "source": [
        "## Step 5: Modeling again!"
      ]
    },
    {
      "cell_type": "code",
      "execution_count": null,
      "id": "7b4de5ea-3ea5-4b74-b227-1b1d459f81ec",
      "metadata": {
        "executionTime": 37,
        "lastSuccessfullyExecutedCode": "# Instantiate logistic regression model\nclf = LogisticRegression(random_state=42)\n\n# Fit to the training data\nclf.fit(X_train, y_train)\n\n# Predict test set values\ny_pred = clf.predict(X_test)",
        "id": "7b4de5ea-3ea5-4b74-b227-1b1d459f81ec"
      },
      "outputs": [],
      "source": [
        "# Instantiate logistic regression model\n",
        "\n",
        "# Fit to the training data\n",
        "\n",
        "# Predict test set values"
      ]
    },
    {
      "cell_type": "markdown",
      "id": "e9bdd81f",
      "metadata": {
        "id": "e9bdd81f"
      },
      "source": [
        "## Step 6: Testing again!"
      ]
    },
    {
      "cell_type": "code",
      "execution_count": null,
      "id": "499ceae5-3fae-4924-b68a-3a6b594ce2d4",
      "metadata": {
        "executionTime": 38,
        "lastSuccessfullyExecutedCode": "# Accuracy\nprint(clf.score(X_test, y_test))",
        "id": "499ceae5-3fae-4924-b68a-3a6b594ce2d4"
      },
      "outputs": [],
      "source": [
        "# Accuracy"
      ]
    },
    {
      "cell_type": "code",
      "execution_count": null,
      "id": "8de4fc57-8895-4cc1-affd-4a15b6ccb11e",
      "metadata": {
        "executionTime": 92,
        "lastSuccessfullyExecutedCode": "# Confusion matrix\nconf_matrix = confusion_matrix(y_test, y_pred)\ndisp = ConfusionMatrixDisplay(confusion_matrix=conf_matrix,\n                             display_labels=[\"Rejected\", \"Approved\"])\ndisp.plot()\nplt.show()",
        "id": "8de4fc57-8895-4cc1-affd-4a15b6ccb11e"
      },
      "outputs": [],
      "source": [
        "# Confusion matrix\n"
      ]
    },
    {
      "cell_type": "markdown",
      "id": "d93ac52c",
      "metadata": {
        "id": "d93ac52c"
      },
      "source": [
        "## Trying with Step 4, 5 and 6 again: Feature Engineering, Modeling, Testing"
      ]
    },
    {
      "cell_type": "code",
      "execution_count": null,
      "id": "5d1aa17e-f751-4ed1-8a8f-ca75629c8e40",
      "metadata": {
        "executionTime": 490,
        "lastSuccessfullyExecutedCode": "# Finding the importance of features\nfeature_importance = pd.DataFrame({\n    \"feature\": X_train.columns,\n    \"importance\": clf.coef_.reshape(-1) \n})\nplt.figure(figsize=(9,5))\nsns.barplot(data=feature_importance, x=\"feature\", y=\"importance\")\nplt.tight_layout()\nplt.xticks(rotation=45)\nplt.show()",
        "id": "5d1aa17e-f751-4ed1-8a8f-ca75629c8e40"
      },
      "outputs": [],
      "source": [
        "# Finding the importance of features\n"
      ]
    },
    {
      "cell_type": "code",
      "execution_count": null,
      "id": "22216fed-937b-4ff4-9889-9d73de1f774b",
      "metadata": {
        "executionTime": 0,
        "lastSuccessfullyExecutedCode": "# Illustrate feature importance\n\n\n\n# Split into training and test sets\n\n\n# Instantiate logistic regression model\n\n\n# Fit to the training data\n\n\n# Predict test set values\n\n\n# Accuracy\n\n\n# Confusion matrix\n",
        "id": "22216fed-937b-4ff4-9889-9d73de1f774b"
      },
      "outputs": [],
      "source": [
        "# Illustrate feature importance\n",
        "\n",
        "\n",
        "\n",
        "# Split into training and test sets\n",
        "\n",
        "\n",
        "# Instantiate logistic regression model\n",
        "\n",
        "\n",
        "# Fit to the training data\n",
        "\n",
        "\n",
        "# Predict test set values\n",
        "\n",
        "\n",
        "# Accuracy\n",
        "\n",
        "\n",
        "# Confusion matrix\n"
      ]
    },
    {
      "cell_type": "markdown",
      "id": "b73a1163",
      "metadata": {
        "id": "b73a1163"
      },
      "source": [
        "## Step 7: Experiment / Deployment"
      ]
    },
    {
      "cell_type": "markdown",
      "id": "73409fb2-6b61-41d5-a3e4-1f7d67d126a9",
      "metadata": {
        "id": "73409fb2-6b61-41d5-a3e4-1f7d67d126a9"
      },
      "source": [
        "## How might we improve model performance?\n",
        "\n",
        "* Further preprocessing:\n",
        "\t- Log transformations for skewed distributions.\n",
        "\t- Scale feature values.\n",
        "\t- Remove outliers e.g., high earners.\n",
        "* Try a different model e.g., Decision trees\n",
        "* Gather more data.\n",
        "\t- Train new models on incorrect predictions (may need more data and/or a holdout set).\n",
        "* Further feature engineering.\n",
        "* Hyperparameter tuning."
      ]
    }
  ],
  "metadata": {
    "editor": "DataCamp Workspace",
    "kernelspec": {
      "display_name": "Python 3 (ipykernel)",
      "language": "python",
      "name": "python3"
    },
    "language_info": {
      "codemirror_mode": {
        "name": "ipython",
        "version": 3
      },
      "file_extension": ".py",
      "mimetype": "text/x-python",
      "name": "python",
      "nbconvert_exporter": "python",
      "pygments_lexer": "ipython3",
      "version": "3.8.10"
    },
    "colab": {
      "provenance": [],
      "include_colab_link": true
    }
  },
  "nbformat": 4,
  "nbformat_minor": 5
}